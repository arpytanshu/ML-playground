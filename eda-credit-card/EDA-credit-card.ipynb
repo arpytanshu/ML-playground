{
 "cells": [
  {
   "cell_type": "markdown",
   "metadata": {},
   "source": [
    "# OBJECTIVE : Exploratory Data Analysis, Classification\n",
    "\n",
    "# DATASET\n",
    "### Source : default of credit card clients Data Set ( https://archive.ics.uci.edu/ml/datasets/default+of+credit+card+clients )\n",
    "### Attribute Information:\n",
    "````\n",
    "This research employed a binary variable, default payment (Yes = 1, No = 0), as the response variable.  \n",
    "This study reviewed the literature and used the following 23 variables as explanatory variables:  \n",
    "\n",
    "X1: Amount of the given credit (NT dollar): it includes both the individual consumer credit and his/her family (supplementary) credit.\n",
    "X2: Gender (1 = male; 2 = female).\n",
    "X3: Education (1 = graduate school; 2 = university; 3 = high school; 4 = others).\n",
    "X4: Marital status (1 = married; 2 = single; 3 = others).\n",
    "X5: Age (year).\n",
    "X6 - X11: History of past payment. We tracked the past monthly payment records (from April to September, 2005) as follows:a\n",
    "    X6 = the repayment status in September, 2005;\n",
    "    X7 = the repayment status in August, 2005;\n",
    "    . . .;\n",
    "    X11 = the repayment status in April, 2005.\n",
    "    The measurement scale for the repayment status is:\n",
    "        -1 = pay duly;\n",
    "        1 = payment delay for one month;\n",
    "        2 = payment delay for two months;\n",
    "        . . .;\n",
    "        8 = payment delay for eight months;\n",
    "        9 = payment delay for nine months and above.\n",
    "X12-X17: Amount of bill statement (NT dollar).\n",
    "    X12 = amount of bill statement in September, 2005;\n",
    "    X13 = amount of bill statement in August, 2005;\n",
    "    . . .;\n",
    "    X17 = amount of bill statement in April, 2005.\n",
    "X18-X23: Amount of previous payment (NT dollar).\n",
    "    X18 = amount paid in September, 2005;\n",
    "    X19 = amount paid in August, 2005;\n",
    "    . . .;\n",
    "    X23 = amount paid in April, 2005.\n",
    "````    "
   ]
  },
  {
   "cell_type": "code",
   "execution_count": 23,
   "metadata": {},
   "outputs": [],
   "source": [
    "import numpy as np\n",
    "import pandas as pd\n",
    "import matplotlib.pyplot as plt\n",
    "import seaborn as sns\n",
    "from sklearn.metrics import f1_score\n",
    "from sklearn.model_selection import train_test_split, GridSearchCV\n",
    "from sklearn.ensemble import RandomForestClassifier"
   ]
  },
  {
   "cell_type": "markdown",
   "metadata": {},
   "source": [
    "### Get in the data"
   ]
  },
  {
   "cell_type": "code",
   "execution_count": 24,
   "metadata": {},
   "outputs": [
    {
     "name": "stdout",
     "output_type": "stream",
     "text": [
      "# Samples in train: 24169\n",
      "# Samples in test: 5831\n"
     ]
    },
    {
     "data": {
      "text/html": [
       "<div>\n",
       "<style scoped>\n",
       "    .dataframe tbody tr th:only-of-type {\n",
       "        vertical-align: middle;\n",
       "    }\n",
       "\n",
       "    .dataframe tbody tr th {\n",
       "        vertical-align: top;\n",
       "    }\n",
       "\n",
       "    .dataframe thead th {\n",
       "        text-align: right;\n",
       "    }\n",
       "</style>\n",
       "<table border=\"1\" class=\"dataframe\">\n",
       "  <thead>\n",
       "    <tr style=\"text-align: right;\">\n",
       "      <th></th>\n",
       "      <th>LIMIT_BAL</th>\n",
       "      <th>SEX</th>\n",
       "      <th>EDUCATION</th>\n",
       "      <th>MARRIAGE</th>\n",
       "      <th>AGE</th>\n",
       "      <th>PAY_0</th>\n",
       "      <th>PAY_2</th>\n",
       "      <th>PAY_3</th>\n",
       "      <th>PAY_4</th>\n",
       "      <th>PAY_5</th>\n",
       "      <th>...</th>\n",
       "      <th>BILL_AMT4</th>\n",
       "      <th>BILL_AMT5</th>\n",
       "      <th>BILL_AMT6</th>\n",
       "      <th>PAY_AMT1</th>\n",
       "      <th>PAY_AMT2</th>\n",
       "      <th>PAY_AMT3</th>\n",
       "      <th>PAY_AMT4</th>\n",
       "      <th>PAY_AMT5</th>\n",
       "      <th>PAY_AMT6</th>\n",
       "      <th>labels</th>\n",
       "    </tr>\n",
       "  </thead>\n",
       "  <tbody>\n",
       "    <tr>\n",
       "      <th>0</th>\n",
       "      <td>20000</td>\n",
       "      <td>2</td>\n",
       "      <td>2</td>\n",
       "      <td>1</td>\n",
       "      <td>24</td>\n",
       "      <td>2</td>\n",
       "      <td>2</td>\n",
       "      <td>-1</td>\n",
       "      <td>-1</td>\n",
       "      <td>-2</td>\n",
       "      <td>...</td>\n",
       "      <td>0</td>\n",
       "      <td>0</td>\n",
       "      <td>0</td>\n",
       "      <td>0</td>\n",
       "      <td>689</td>\n",
       "      <td>0</td>\n",
       "      <td>0</td>\n",
       "      <td>0</td>\n",
       "      <td>0</td>\n",
       "      <td>1</td>\n",
       "    </tr>\n",
       "    <tr>\n",
       "      <th>1</th>\n",
       "      <td>90000</td>\n",
       "      <td>2</td>\n",
       "      <td>2</td>\n",
       "      <td>2</td>\n",
       "      <td>34</td>\n",
       "      <td>0</td>\n",
       "      <td>0</td>\n",
       "      <td>0</td>\n",
       "      <td>0</td>\n",
       "      <td>0</td>\n",
       "      <td>...</td>\n",
       "      <td>14331</td>\n",
       "      <td>14948</td>\n",
       "      <td>15549</td>\n",
       "      <td>1518</td>\n",
       "      <td>1500</td>\n",
       "      <td>1000</td>\n",
       "      <td>1000</td>\n",
       "      <td>1000</td>\n",
       "      <td>5000</td>\n",
       "      <td>0</td>\n",
       "    </tr>\n",
       "    <tr>\n",
       "      <th>2</th>\n",
       "      <td>50000</td>\n",
       "      <td>2</td>\n",
       "      <td>2</td>\n",
       "      <td>1</td>\n",
       "      <td>37</td>\n",
       "      <td>0</td>\n",
       "      <td>0</td>\n",
       "      <td>0</td>\n",
       "      <td>0</td>\n",
       "      <td>0</td>\n",
       "      <td>...</td>\n",
       "      <td>28314</td>\n",
       "      <td>28959</td>\n",
       "      <td>29547</td>\n",
       "      <td>2000</td>\n",
       "      <td>2019</td>\n",
       "      <td>1200</td>\n",
       "      <td>1100</td>\n",
       "      <td>1069</td>\n",
       "      <td>1000</td>\n",
       "      <td>0</td>\n",
       "    </tr>\n",
       "    <tr>\n",
       "      <th>3</th>\n",
       "      <td>50000</td>\n",
       "      <td>1</td>\n",
       "      <td>2</td>\n",
       "      <td>1</td>\n",
       "      <td>57</td>\n",
       "      <td>-1</td>\n",
       "      <td>0</td>\n",
       "      <td>-1</td>\n",
       "      <td>0</td>\n",
       "      <td>0</td>\n",
       "      <td>...</td>\n",
       "      <td>20940</td>\n",
       "      <td>19146</td>\n",
       "      <td>19131</td>\n",
       "      <td>2000</td>\n",
       "      <td>36681</td>\n",
       "      <td>10000</td>\n",
       "      <td>9000</td>\n",
       "      <td>689</td>\n",
       "      <td>679</td>\n",
       "      <td>0</td>\n",
       "    </tr>\n",
       "    <tr>\n",
       "      <th>4</th>\n",
       "      <td>50000</td>\n",
       "      <td>1</td>\n",
       "      <td>1</td>\n",
       "      <td>2</td>\n",
       "      <td>37</td>\n",
       "      <td>0</td>\n",
       "      <td>0</td>\n",
       "      <td>0</td>\n",
       "      <td>0</td>\n",
       "      <td>0</td>\n",
       "      <td>...</td>\n",
       "      <td>19394</td>\n",
       "      <td>19619</td>\n",
       "      <td>20024</td>\n",
       "      <td>2500</td>\n",
       "      <td>1815</td>\n",
       "      <td>657</td>\n",
       "      <td>1000</td>\n",
       "      <td>1000</td>\n",
       "      <td>800</td>\n",
       "      <td>0</td>\n",
       "    </tr>\n",
       "  </tbody>\n",
       "</table>\n",
       "<p>5 rows × 24 columns</p>\n",
       "</div>"
      ],
      "text/plain": [
       "   LIMIT_BAL  SEX  EDUCATION  MARRIAGE  AGE  PAY_0  PAY_2  PAY_3  PAY_4  \\\n",
       "0      20000    2          2         1   24      2      2     -1     -1   \n",
       "1      90000    2          2         2   34      0      0      0      0   \n",
       "2      50000    2          2         1   37      0      0      0      0   \n",
       "3      50000    1          2         1   57     -1      0     -1      0   \n",
       "4      50000    1          1         2   37      0      0      0      0   \n",
       "\n",
       "   PAY_5  ...  BILL_AMT4  BILL_AMT5  BILL_AMT6  PAY_AMT1  PAY_AMT2  PAY_AMT3  \\\n",
       "0     -2  ...          0          0          0         0       689         0   \n",
       "1      0  ...      14331      14948      15549      1518      1500      1000   \n",
       "2      0  ...      28314      28959      29547      2000      2019      1200   \n",
       "3      0  ...      20940      19146      19131      2000     36681     10000   \n",
       "4      0  ...      19394      19619      20024      2500      1815       657   \n",
       "\n",
       "   PAY_AMT4  PAY_AMT5  PAY_AMT6  labels  \n",
       "0         0         0         0       1  \n",
       "1      1000      1000      5000       0  \n",
       "2      1100      1069      1000       0  \n",
       "3      9000       689       679       0  \n",
       "4      1000      1000       800       0  \n",
       "\n",
       "[5 rows x 24 columns]"
      ]
     },
     "execution_count": 24,
     "metadata": {},
     "output_type": "execute_result"
    }
   ],
   "source": [
    "train = pd.read_csv('train.csv')\n",
    "test = pd.read_csv('test.csv')\n",
    "\n",
    "print('# Samples in train:', train.shape[0])\n",
    "print('# Samples in test:', test.shape[0])\n",
    "\n",
    "train.drop(columns=['Unnamed: 0', 'ID'], inplace=True)\n",
    "train.rename(columns={'default payment next month': 'labels'}, inplace=True)\n",
    "\n",
    "\n",
    "train.head()"
   ]
  },
  {
   "cell_type": "markdown",
   "metadata": {},
   "source": [
    "## Analysing the Labels\n",
    "Lets see the ratio of defaulters vs non-defaulters in the dataset.  \n",
    "```\n",
    "Label Mapping:  \n",
    "0 : Non-Defaulters  \n",
    "1 : Defaulters\n",
    "```\n"
   ]
  },
  {
   "cell_type": "code",
   "execution_count": 25,
   "metadata": {},
   "outputs": [
    {
     "name": "stdout",
     "output_type": "stream",
     "text": [
      "\n",
      "Percentage of Class 1 [Defaulters] : 0.21842029045471473\n",
      "Percentage of Class 0 [Non-Defaulters] : 0.7815797095452853\n",
      "\n",
      "Defaulter Ratio for the Dataset:\n",
      "{ ( # of samples w/ label = 1 ) / ( # samples w/ labels = 0 )} : 0.27946003176283746\n"
     ]
    },
    {
     "data": {
      "image/png": "[encoded data removed]",
      "text/plain": [
       "<Figure size 432x288 with 1 Axes>"
      ]
     },
     "metadata": {},
     "output_type": "display_data"
    }
   ],
   "source": [
    "train.labels.value_counts().plot(kind='pie', labels=['Non-Defaulters', 'Defaulters'], colormap='cividis', title='Ratio of Defaulters vs Non-Defaulters in dataset')\n",
    "\n",
    "perc_1 = train.labels.value_counts()[1] / train.labels.count()\n",
    "perc_0 = train.labels.value_counts()[0] / train.labels.count()\n",
    "\n",
    "print('\\nPercentage of Class 1 [Defaulters] :', perc_1)\n",
    "print('Percentage of Class 0 [Non-Defaulters] :', perc_0)\n",
    "print()\n",
    "DEFAULT_DEFAULTER_RATIO = perc_1 / perc_0\n",
    "print('Defaulter Ratio for the Dataset:\\n{ ( # of samples w/ label = 1 ) / ( # samples w/ labels = 0 )} :', DEFAULT_DEFAULTER_RATIO)"
   ]
  },
  {
   "cell_type": "markdown",
   "metadata": {},
   "source": [
    "### Some convenience functions"
   ]
  },
  {
   "cell_type": "code",
   "execution_count": 26,
   "metadata": {},
   "outputs": [],
   "source": [
    "\n",
    "def see_current_scores(df, imps=False, graph=False):\n",
    "    '''\n",
    "    This is a convenience function that we use to see changes in the Feature Importance Scores from\n",
    "    Random Fores Classifier (w/ Default RFC Parameters) with changing the features (s.a. adding / removing features from the dataset)\n",
    "    and monitor the dip / rise in Accuracy / F1.\n",
    "    '''\n",
    "    \n",
    "    #train-val split\n",
    "    x_train, x_val , y_train, y_val = train_test_split(df.iloc[:,:-1], df.iloc[:,-1],\n",
    "                                                     test_size=0.15, random_state=43)\n",
    "    # using RFC for benchmark\n",
    "    rfc = RandomForestClassifier(n_estimators=20)\n",
    "    rfc.fit(x_train, y_train)\n",
    "    predictions = rfc.predict(x_val)\n",
    "    print('Score from RFC:', rfc.score(x_val, y_val))\n",
    "    print(\"F1 score from RFC:\", f1_score(y_val, predictions))\n",
    "    \n",
    "    if (imps):\n",
    "        feature_imps = {}\n",
    "        print(\"\\nFeature Importances:\")\n",
    "        ix = np.argsort(rfc.feature_importances_)[::-1]\n",
    "        for i,j in zip(rfc.feature_importances_[ix],x_train.columns[ix]):\n",
    "            print(i,j)\n",
    "            feature_imps[j] = i\n",
    "    \n",
    "    if(graph):\n",
    "        x = list(feature_imps.keys())\n",
    "        y = list(feature_imps.values())\n",
    "        plt.barh(x,y,log=True)\n",
    "        plt.title('Feature Importance of features in Logarithm Scale')\n",
    "        plt.show()\n",
    "        \n",
    "        \n",
    "\n",
    "def defaulter_ratio_cat_feature(df, col):\n",
    "    '''\n",
    "    ===> Use only with categorical features <===\n",
    "    creates a map of unique values in features w.r.t. defaulter ratio.\n",
    "    defaulter_ratio = (# of defaulters) / (# of non-defaulters)\n",
    "    \n",
    "    eg, pay val =-2 means prepayment by 2 months\n",
    "        and has lower default rates in general,\n",
    "        so -2 maps to a lower defaulter ratio (in most cases)\n",
    "    '''\n",
    "    map = {}\n",
    "    a = df[col].unique()\n",
    "    for i in a:\n",
    "        try:\n",
    "            bad_guys = df.labels[df[col] == i].value_counts()[1.0]\n",
    "        except KeyError:\n",
    "            bad_guys = 0\n",
    "        try:\n",
    "            good_guys = df.labels[df[col] == i].value_counts()[0]\n",
    "        except KeyError:\n",
    "            good_guys = 0\n",
    "        try:\n",
    "            ratio = float(bad_guys) / float(good_guys)\n",
    "        except ZeroDivisionError:\n",
    "            ratio = 0\n",
    "        map[i] = ratio\n",
    "    return map\n"
   ]
  },
  {
   "cell_type": "markdown",
   "metadata": {},
   "source": [
    "### We get the RFC Feature Importance for the training data without any changes to the dataset.\n",
    "### This will help us benchmark any changes that we may do later"
   ]
  },
  {
   "cell_type": "code",
   "execution_count": 27,
   "metadata": {},
   "outputs": [
    {
     "name": "stdout",
     "output_type": "stream",
     "text": [
      "Score from RFC: 0.8149476006618864\n",
      "F1 score from RFC: 0.4704025256511444\n",
      "\n",
      "Feature Importances:\n",
      "0.10070174392969314 PAY_0\n",
      "0.06527782126151625 AGE\n",
      "0.06183971373302292 BILL_AMT1\n",
      "0.05696205798453922 LIMIT_BAL\n",
      "0.05530673955911354 BILL_AMT2\n",
      "0.0539047681263472 PAY_AMT1\n",
      "0.05194003882193895 BILL_AMT3\n",
      "0.05054405811445124 BILL_AMT4\n",
      "0.04938675599501732 BILL_AMT5\n",
      "0.049175375137253646 BILL_AMT6\n",
      "0.04835494763935806 PAY_AMT2\n",
      "0.04634228833200701 PAY_AMT3\n",
      "0.044685808456402784 PAY_AMT6\n",
      "0.04325642497984431 PAY_AMT4\n",
      "0.043200250624010894 PAY_AMT5\n",
      "0.034181918389702574 PAY_2\n",
      "0.032054171956657156 PAY_4\n",
      "0.029993267354382642 PAY_3\n",
      "0.02170132909460064 EDUCATION\n",
      "0.02131755039250523 PAY_6\n",
      "0.014218867986069078 MARRIAGE\n",
      "0.01397631600728087 PAY_5\n",
      "0.011677786124285262 SEX\n"
     ]
    },
    {
     "data": {
      "image/png": "[encoded data removed]",
      "text/plain": [
       "<Figure size 432x288 with 1 Axes>"
      ]
     },
     "metadata": {
      "needs_background": "light"
     },
     "output_type": "display_data"
    }
   ],
   "source": [
    "see_current_scores(train, imps=True, graph=True)"
   ]
  },
  {
   "cell_type": "markdown",
   "metadata": {},
   "source": [
    "## Analysis of PAY_x attributes:\n",
    "```\n",
    "As per the dataset:\n",
    "-1 = pay duly;\n",
    "1 = payment delay for one month;\n",
    "2 = payment delay for two months;\n",
    ". . .;\n",
    "8 = payment delay for eight months;\n",
    "9 = payment delay for nine months and above.\n",
    "```\n",
    "\n"
   ]
  },
  {
   "cell_type": "markdown",
   "metadata": {},
   "source": [
    "### We try to visualize the ratio of people who have defaulted payment w.r.t the number of months their payment was delayed.\n",
    "#### Obviously, as expected, people who have delayed payments for more that 1 month, have a much higher probability of defaulting the next payment\n"
   ]
  },
  {
   "cell_type": "code",
   "execution_count": 28,
   "metadata": {},
   "outputs": [
    {
     "data": {
      "image/png": "[encoded data removed]",
      "text/plain": [
       "<Figure size 1440x432 with 6 Axes>"
      ]
     },
     "metadata": {
      "needs_background": "light"
     },
     "output_type": "display_data"
    }
   ],
   "source": [
    "# Defaulters Ratio w.r.t PAY_x features\n",
    "\n",
    "\n",
    "attrib = ['PAY_0', 'PAY_2', 'PAY_3', 'PAY_4', 'PAY_5', 'PAY_6']\n",
    "fig = plt.figure(figsize=(20,6))\n",
    "fig.suptitle('Defaulters Ratio w.r.t PAY_x features')\n",
    "\n",
    "i=1\n",
    "for ax in attrib:\n",
    "    fig.add_subplot(2, 3, i)\n",
    "    mapping = defaulter_ratio_cat_feature(train, ax)\n",
    "    ind = mapping.keys()\n",
    "    D_ratio = []\n",
    "    for ix in ind:\n",
    "        D_ratio.append(mapping[ix])\n",
    "    p1 = plt.bar(ind, D_ratio, width=0.35,color='red', alpha=0.3)\n",
    "    plt.plot([min(ind)-0.25, max(ind)+0.25], [DEFAULT_DEFAULTER_RATIO, DEFAULT_DEFAULTER_RATIO], \"r--\")\n",
    "    plt.title('Feature : {}'.format(ax))\n",
    "    i -=- 1\n"
   ]
  },
  {
   "cell_type": "markdown",
   "metadata": {},
   "source": [
    "```\n",
    "Note: The red horizontal line inbelow graphs mark the ratio of [ Defaulters / Non-Defaulters ].  \n",
    "If  values for a categorical feature is much higher or much smaller lower the horizonrtal line, it turns out to be a very useful feature for classification.\n",
    "Similarly, if any feature, s.a. SEX or MARRIAGE, (as we will see in below graphs) that are very close to the red horizontal line turns out to be not much useful features for classification.\n",
    "\n",
    "We can say this coz if you compare the graphs with the feature importance scores from RFC, its all coherent\n",
    "```"
   ]
  },
  {
   "cell_type": "markdown",
   "metadata": {},
   "source": [
    "## Exploring features: SEX, MARRIAGE, AGE & EDUCATION   \n",
    "### We saw above that these features have the least importances in predicting the labels from rfc.featuer_importances_  \n",
    "#### Lets do some plotting to see their defaulters ratio.\n",
    "#### The horizontal line in these plots mark the Default Ratio for Defaulters vs Non-defaulters for the dataset"
   ]
  },
  {
   "cell_type": "code",
   "execution_count": 29,
   "metadata": {},
   "outputs": [
    {
     "data": {
      "image/png": "[encoded data removed]",
      "text/plain": [
       "<Figure size 2160x288 with 4 Axes>"
      ]
     },
     "metadata": {
      "needs_background": "light"
     },
     "output_type": "display_data"
    }
   ],
   "source": [
    "attribs = ['SEX', 'MARRIAGE', 'EDUCATION', 'AGE']\n",
    "\n",
    "\n",
    "fig, axs = plt.subplots(1,4)\n",
    "fig.suptitle('Attrib vs Defaulter Ratio')\n",
    "\n",
    "fig.set_figheight(4)\n",
    "fig.set_figwidth(30)\n",
    "\n",
    "for i,ax in enumerate(attribs):\n",
    "    mapping = defaulter_ratio_cat_feature(train, ax)\n",
    "#     print(mapping)\n",
    "    ind = mapping.keys()\n",
    "    D_ratio = []\n",
    "    for ix in ind:\n",
    "        D_ratio.append(mapping[ix])\n",
    "    p1 = axs[i].bar(ind, D_ratio, width=0.35,color='red', alpha=0.3)\n",
    "    axs[i].plot([min(ind)-0.25, max(ind)+0.25], [DEFAULT_DEFAULTER_RATIO, DEFAULT_DEFAULTER_RATIO], \"r--\")\n",
    "    axs[i].set_title('Feature : {}'.format(ax))\n"
   ]
  },
  {
   "cell_type": "markdown",
   "metadata": {},
   "source": [
    "```\n",
    "\n",
    "Seems Men are more likely to default payment, as they have a little higher defaulting ratio.  \n",
    "But still SEX as a feature score very little in the RFC feature importance.  \n",
    "  \n",
    "\n",
    "**_Overall defaulter ratio of the dataset ( 21.84 / 78.15 ~ 0.27 )  {i.e. # samples with class labels 1 / # samples with class labels 0}_**  \n",
    "  \n",
    "**One important thing worth noticing would be that if the defaulter ratio for any value in any feature is very close to the overall defaulter ratio of the dataset ( 21.84 / 78.15 ~ 0.27 ), then it probably is not going to be a very useful thing for us.  \n",
    "The farther the defaulter ratio is from 0.27, the better.**  \n",
    "  \n",
    "\n",
    "The information we observe here is very coherent with the feature importance from RFC we observed above.  \n",
    "SEX and MARRIAGE have their defaulter ratios very close around 0.27\n",
    "EDUCATION has its ratios much farther than 0.27.\n",
    "\n",
    "\n",
    "What we will try next is removeing these features altogether, and see the performance dip/rise.\n",
    "```"
   ]
  },
  {
   "cell_type": "code",
   "execution_count": 30,
   "metadata": {},
   "outputs": [
    {
     "name": "stdout",
     "output_type": "stream",
     "text": [
      "Scores with all features\n",
      "Score from RFC: 0.8099834528405957\n",
      "F1 score from RFC: 0.44835868694955966\n",
      "\n",
      "Scores After Removing Features\n",
      "Score from RFC: 0.815223386651958\n",
      "F1 score from RFC: 0.4657097288676237\n",
      "Dropping SEX & MARRIAGE from dataset.\n"
     ]
    }
   ],
   "source": [
    "train_low_features_removed = train.drop(columns=['SEX', 'MARRIAGE'])\n",
    "print(\"Scores with all features\")\n",
    "see_current_scores(train)\n",
    "print()\n",
    "print(\"Scores After Removing Features\")\n",
    "see_current_scores(train_low_features_removed)\n",
    "\n",
    "\n",
    "print(\"Dropping SEX & MARRIAGE from dataset.\")\n",
    "train.drop(columns=['SEX', 'MARRIAGE'], inplace=True)\n",
    "test.drop(columns=['SEX', 'MARRIAGE'], inplace=True)"
   ]
  },
  {
   "cell_type": "markdown",
   "metadata": {},
   "source": [
    "```\n",
    "A very slight dip/rise in F1 score after removing SEX & MARRIAGE, as compared to the previous result with no change in dataset.  \n",
    "But we cannot be too sure of that.  \n",
    "We remove the features for now.\n",
    "```"
   ]
  },
  {
   "cell_type": "markdown",
   "metadata": {},
   "source": [
    "### Lets Create New features\n",
    "\n",
    "The features BILL_AMTx are the amount the credit card holder is billed each month from April to September.\n",
    "And PAY_AMTx are the payments the person makes from April to September.\n",
    "\n",
    "One thing we can infer from the data is the relation between BILL_AMTx and PAY_AMTx.\n"
   ]
  },
  {
   "cell_type": "code",
   "execution_count": 31,
   "metadata": {},
   "outputs": [
    {
     "name": "stdout",
     "output_type": "stream",
     "text": [
      "Delta values for chosen samples for 5 months:\n",
      " [[   0    0    0    0    0]\n",
      " [  -5  -15    0    0 -369]\n",
      " [   0    0    0    0    0]\n",
      " [-163 -116  -23 -399 -129]]\n"
     ]
    },
    {
     "data": {
      "text/html": [
       "<div>\n",
       "<style scoped>\n",
       "    .dataframe tbody tr th:only-of-type {\n",
       "        vertical-align: middle;\n",
       "    }\n",
       "\n",
       "    .dataframe tbody tr th {\n",
       "        vertical-align: top;\n",
       "    }\n",
       "\n",
       "    .dataframe thead th {\n",
       "        text-align: right;\n",
       "    }\n",
       "</style>\n",
       "<table border=\"1\" class=\"dataframe\">\n",
       "  <thead>\n",
       "    <tr style=\"text-align: right;\">\n",
       "      <th></th>\n",
       "      <th>PAY_0</th>\n",
       "      <th>PAY_2</th>\n",
       "      <th>PAY_3</th>\n",
       "      <th>PAY_4</th>\n",
       "      <th>PAY_5</th>\n",
       "      <th>PAY_6</th>\n",
       "      <th>BILL_AMT1</th>\n",
       "      <th>BILL_AMT2</th>\n",
       "      <th>BILL_AMT3</th>\n",
       "      <th>BILL_AMT4</th>\n",
       "      <th>BILL_AMT5</th>\n",
       "      <th>BILL_AMT6</th>\n",
       "      <th>PAY_AMT1</th>\n",
       "      <th>PAY_AMT2</th>\n",
       "      <th>PAY_AMT3</th>\n",
       "      <th>PAY_AMT4</th>\n",
       "      <th>PAY_AMT5</th>\n",
       "      <th>PAY_AMT6</th>\n",
       "    </tr>\n",
       "  </thead>\n",
       "  <tbody>\n",
       "    <tr>\n",
       "      <th>18</th>\n",
       "      <td>-1</td>\n",
       "      <td>-1</td>\n",
       "      <td>-1</td>\n",
       "      <td>-1</td>\n",
       "      <td>-1</td>\n",
       "      <td>-1</td>\n",
       "      <td>316</td>\n",
       "      <td>316</td>\n",
       "      <td>316</td>\n",
       "      <td>0</td>\n",
       "      <td>632</td>\n",
       "      <td>316</td>\n",
       "      <td>316</td>\n",
       "      <td>316</td>\n",
       "      <td>0</td>\n",
       "      <td>632</td>\n",
       "      <td>316</td>\n",
       "      <td>0</td>\n",
       "    </tr>\n",
       "    <tr>\n",
       "      <th>26</th>\n",
       "      <td>-1</td>\n",
       "      <td>-1</td>\n",
       "      <td>-1</td>\n",
       "      <td>-1</td>\n",
       "      <td>-1</td>\n",
       "      <td>-1</td>\n",
       "      <td>16646</td>\n",
       "      <td>17265</td>\n",
       "      <td>13266</td>\n",
       "      <td>15339</td>\n",
       "      <td>14307</td>\n",
       "      <td>36923</td>\n",
       "      <td>17270</td>\n",
       "      <td>13281</td>\n",
       "      <td>15339</td>\n",
       "      <td>14307</td>\n",
       "      <td>37292</td>\n",
       "      <td>0</td>\n",
       "    </tr>\n",
       "    <tr>\n",
       "      <th>58</th>\n",
       "      <td>-1</td>\n",
       "      <td>-1</td>\n",
       "      <td>-1</td>\n",
       "      <td>-1</td>\n",
       "      <td>-1</td>\n",
       "      <td>-1</td>\n",
       "      <td>780</td>\n",
       "      <td>0</td>\n",
       "      <td>390</td>\n",
       "      <td>390</td>\n",
       "      <td>390</td>\n",
       "      <td>390</td>\n",
       "      <td>0</td>\n",
       "      <td>390</td>\n",
       "      <td>390</td>\n",
       "      <td>390</td>\n",
       "      <td>390</td>\n",
       "      <td>390</td>\n",
       "    </tr>\n",
       "    <tr>\n",
       "      <th>61</th>\n",
       "      <td>-1</td>\n",
       "      <td>-1</td>\n",
       "      <td>-1</td>\n",
       "      <td>-1</td>\n",
       "      <td>-1</td>\n",
       "      <td>-1</td>\n",
       "      <td>3048</td>\n",
       "      <td>5550</td>\n",
       "      <td>23337</td>\n",
       "      <td>4291</td>\n",
       "      <td>80153</td>\n",
       "      <td>25820</td>\n",
       "      <td>5713</td>\n",
       "      <td>23453</td>\n",
       "      <td>4314</td>\n",
       "      <td>80552</td>\n",
       "      <td>25949</td>\n",
       "      <td>2016</td>\n",
       "    </tr>\n",
       "  </tbody>\n",
       "</table>\n",
       "</div>"
      ],
      "text/plain": [
       "    PAY_0  PAY_2  PAY_3  PAY_4  PAY_5  PAY_6  BILL_AMT1  BILL_AMT2  BILL_AMT3  \\\n",
       "18     -1     -1     -1     -1     -1     -1        316        316        316   \n",
       "26     -1     -1     -1     -1     -1     -1      16646      17265      13266   \n",
       "58     -1     -1     -1     -1     -1     -1        780          0        390   \n",
       "61     -1     -1     -1     -1     -1     -1       3048       5550      23337   \n",
       "\n",
       "    BILL_AMT4  BILL_AMT5  BILL_AMT6  PAY_AMT1  PAY_AMT2  PAY_AMT3  PAY_AMT4  \\\n",
       "18          0        632        316       316       316         0       632   \n",
       "26      15339      14307      36923     17270     13281     15339     14307   \n",
       "58        390        390        390         0       390       390       390   \n",
       "61       4291      80153      25820      5713     23453      4314     80552   \n",
       "\n",
       "    PAY_AMT5  PAY_AMT6  \n",
       "18       316         0  \n",
       "26     37292         0  \n",
       "58       390       390  \n",
       "61     25949      2016  "
      ]
     },
     "execution_count": 31,
     "metadata": {},
     "output_type": "execute_result"
    }
   ],
   "source": [
    "#print(train.columns)\n",
    "\n",
    "sample = train.iloc[[18,26,58,61],:][['PAY_0', 'PAY_2',\n",
    "       'PAY_3', 'PAY_4', 'PAY_5', 'PAY_6', 'BILL_AMT1', 'BILL_AMT2',\n",
    "       'BILL_AMT3', 'BILL_AMT4', 'BILL_AMT5', 'BILL_AMT6', 'PAY_AMT1',\n",
    "       'PAY_AMT2', 'PAY_AMT3', 'PAY_AMT4', 'PAY_AMT5', 'PAY_AMT6']]\n",
    "\n",
    "bills = sample.values[:,6:12]\n",
    "payments = sample.values[:,12:18]\n",
    "delta = bills[:,1:] - payments[:,:-1]\n",
    "print('Delta values for chosen samples for 5 months:\\n',delta)\n",
    "sample"
   ]
  },
  {
   "cell_type": "markdown",
   "metadata": {},
   "source": [
    "```  \n",
    "We have deliberately chosen sample #18, #26, #58, #61 to understand this, since they have -1 {paid duly} for all 6 months.  \n",
    "So BILL_AMT6 is bill generated for April & PAY_AMT5 is the payment made in May for April's bill.  \n",
    "So delta that these good people maintain every month ( sample #18, #26, #58, #61) is almost 0 every month.  \n",
    "And a negative delta value means they are making pre-payments.\n",
    "  \n",
    "Using this observation, we can have the delta that each person maintains for a maximum of 5 months.  \n",
    "(Since PAY_AMT6 is payment made in April, for March's bill, whose data we do not have.)  \n",
    "(BILL_AMT1 is bill generated in September, but we do not have payment amount for this bill.)  \n",
    "  \n",
    "We will add a new column in the data which is the mean of the delta for the 5 months and see its feature importance. \n",
    "```"
   ]
  },
  {
   "cell_type": "code",
   "execution_count": 32,
   "metadata": {},
   "outputs": [],
   "source": [
    "def add_delta_feature(df):\n",
    "    bills = df[['BILL_AMT1', 'BILL_AMT2','BILL_AMT3', 'BILL_AMT4', 'BILL_AMT5', 'BILL_AMT6']].values\n",
    "    payments = df[['PAY_AMT1','PAY_AMT2', 'PAY_AMT3', 'PAY_AMT4', 'PAY_AMT5', 'PAY_AMT6']].values\n",
    "    limit = df[['LIMIT_BAL']].values\n",
    "    delta  = bills[:,1:] - payments[:,:-1]\n",
    "    delta = delta.mean(axis=1)\n",
    "\n",
    "    df_with_delta =  df.copy()\n",
    "    df_with_delta.insert(loc=5, column='delta_mean', value=delta)\n",
    "    return df_with_delta\n",
    "\n",
    "train = add_delta_feature(train)\n",
    "test = add_delta_feature(test)\n",
    "#Apply same operations to test data too\n"
   ]
  },
  {
   "cell_type": "code",
   "execution_count": 33,
   "metadata": {},
   "outputs": [
    {
     "name": "stdout",
     "output_type": "stream",
     "text": [
      "Scores with new additional delta Feature:\n",
      "Score from RFC: 0.8116381687810259\n",
      "F1 score from RFC: 0.4549082202713488\n",
      "\n",
      "Feature Importances:\n",
      "0.0941086461474113 PAY_0\n",
      "0.06657239391158107 AGE\n",
      "0.0596879800386184 LIMIT_BAL\n",
      "0.05766891471350403 BILL_AMT1\n",
      "0.05480351583936569 PAY_2\n",
      "0.051729280355022125 BILL_AMT2\n",
      "0.04947380220952916 BILL_AMT6\n",
      "0.049361694656283095 PAY_AMT1\n",
      "0.04920373680382543 BILL_AMT3\n",
      "0.04900910300546527 delta_mean\n",
      "0.047966974632952186 BILL_AMT4\n",
      "0.047632632439123294 BILL_AMT5\n",
      "0.046671388322658866 PAY_AMT2\n",
      "0.04559178293879919 PAY_AMT6\n",
      "0.04457914863292707 PAY_AMT5\n",
      "0.04425658803990508 PAY_AMT3\n",
      "0.0415021768133546 PAY_AMT4\n",
      "0.021350353762193238 PAY_3\n",
      "0.020333454506104468 PAY_5\n",
      "0.019603796102161977 PAY_6\n",
      "0.019471129442837427 PAY_4\n",
      "0.01942150668637711 EDUCATION\n"
     ]
    }
   ],
   "source": [
    "print(\"Scores with new additional delta Feature:\")\n",
    "see_current_scores(train, imps=True)"
   ]
  },
  {
   "cell_type": "markdown",
   "metadata": {},
   "source": [
    "```\n",
    "So, our new feature **delta_mean** has captured some meaningful information from PAY_AMTx and BILL_AMTx.  \n",
    "It is **9th most important feature among 25 features**.  \n",
    "{ THIS RANK MAY VARY A LITTLE WITH EACH RUN}\n",
    "```"
   ]
  },
  {
   "cell_type": "markdown",
   "metadata": {},
   "source": [
    "## Done with the features, move to **Model**\n",
    "### MODEL 1 **RFC**\n",
    "Lets do some tuning with RandomForestClassifier\n",
    "Some local hyperparameter search on RandomForestClassifier usinf sklearn's GridCVSearch returned the following parameters for RFC when scored on accuracy.\n",
    " - max_depth : 7\n",
    " - criterion : 'gini'\n",
    " - n_estimators : 75"
   ]
  },
  {
   "cell_type": "code",
   "execution_count": 34,
   "metadata": {},
   "outputs": [],
   "source": [
    "x_train, x_val , y_train, y_val = train_test_split(train.iloc[:,:-1], train.iloc[:,-1],\n",
    "                                                     test_size=0.15, random_state=43)"
   ]
  },
  {
   "cell_type": "code",
   "execution_count": 35,
   "metadata": {},
   "outputs": [
    {
     "name": "stdout",
     "output_type": "stream",
     "text": [
      "Score from RFC: 0.819911748483177\n",
      "F1 score from RFC with probability threshold 0.5: 0.46953696181965876\n"
     ]
    }
   ],
   "source": [
    "rfc = RandomForestClassifier(max_depth=7, criterion='gini', n_estimators=75)\n",
    "\n",
    "rfc.fit(x_train, y_train)\n",
    "predictions = rfc.predict(x_val)\n",
    "predict_proba = rfc.predict_proba(x_val)\n",
    "print('Score from RFC:', rfc.score(x_val, y_val))\n",
    "print(\"F1 score from RFC with probability threshold 0.5:\", f1_score(y_val, predictions))\n"
   ]
  },
  {
   "cell_type": "markdown",
   "metadata": {},
   "source": [
    "### Tune the threshold for making predictions  \n",
    "#### Instead of making a class label prediction with probability threshold = 0.5.  \n",
    "#### We shift the threshold and see the effect on F1 score & Accuracy."
   ]
  },
  {
   "cell_type": "code",
   "execution_count": 36,
   "metadata": {},
   "outputs": [
    {
     "name": "stdout",
     "output_type": "stream",
     "text": [
      "F1 score with threshold = 0.2 \t :  0.5489383738995338\n",
      "F1 score with threshold = 0.21 \t :  0.5475935828877005\n",
      "F1 score with threshold = 0.22 \t :  0.5522552255225524\n",
      "F1 score with threshold = 0.23 \t :  0.5572476029328821\n",
      "F1 score with threshold = 0.24 \t :  0.562536023054755\n",
      "F1 score with threshold = 0.25 \t :  0.5603296056503826\n",
      "F1 score with threshold = 0.26 \t :  0.5557543231961837\n",
      "F1 score with threshold = 0.27 \t :  0.5547445255474454\n",
      "F1 score with threshold = 0.28 \t :  0.5551425030978934\n",
      "F1 score with threshold = 0.29 \t :  0.5531112507856694\n",
      "F1 score with threshold = 0.3 \t :  0.5487884741322855\n",
      "F1 score with threshold = 0.35 \t :  0.5346260387811634\n",
      "F1 score with threshold = 0.4 \t :  0.5139911634756995\n",
      "F1 score with threshold = 0.45 \t :  0.48631743549648165\n",
      "F1 score with threshold = 0.5 \t :  0.46953696181965876\n",
      "F1 score with threshold = 0.55 \t :  0.4378194207836457\n",
      "F1 score with threshold = 0.6 \t :  0.35992578849721707\n",
      "F1 score with threshold = 0.65 \t :  0.28428428428428426\n"
     ]
    },
    {
     "data": {
      "image/png": "[encoded data removed]",
      "text/plain": [
       "<Figure size 432x288 with 1 Axes>"
      ]
     },
     "metadata": {
      "needs_background": "light"
     },
     "output_type": "display_data"
    },
    {
     "name": "stdout",
     "output_type": "stream",
     "text": [
      "\n",
      "\n",
      "Maximum F1 score obtained with threshold 0.24 is 0.562536023054755\n"
     ]
    }
   ],
   "source": [
    "def hypertune_threshold(pred_prob, y_val, graph=False):\n",
    "    '''\n",
    "    Another convenience function.\n",
    "    It uses the predicted probabilities form a Classification Model,\n",
    "    and searches through a range of values for probability threshold for making a prediction.\n",
    "    eg. If model predicts a probability P_P and prediction probability threshold is P_T,\n",
    "    Then we predict a 1 when P_P > P_T\n",
    "        we predict a 0 when P_P < P_T.\n",
    "    This kind of tuning is especially useful when we are handling imbalanced dataset, with a non 50-50 distribution of class labels.\n",
    "    '''\n",
    "    f1_scores = {}\n",
    "    accuracy = {}\n",
    "    T = [0.20, 0.21, 0.22, 0.23, 0.24, 0.25, 0.26, 0.27, 0.28, 0.29, 0.30, 0.35, 0.4, 0.45, 0.5, 0.55, 0.60, 0.65]\n",
    "    for t in T:\n",
    "        predictions=[]\n",
    "        for i in pred_prob:\n",
    "            if(i[1] > t):\n",
    "                predictions.append(1)\n",
    "            else:\n",
    "                predictions.append(0)\n",
    "        predictions = np.array(predictions)\n",
    "        accuracy[t] = 1 - (predictions - y_val).abs().sum() / predictions.shape[0]\n",
    "        print(\"F1 score with threshold =\",t,\"\\t : \", f1_score(y_val, predictions))\n",
    "        f1_scores[t] = f1_score(y_val, predictions)\n",
    "    \n",
    "    y1 = list(f1_scores.values())\n",
    "    y2 = list(accuracy.values())\n",
    "    max_T = T[np.argmax(y1)]\n",
    "    if (graph):\n",
    "        \n",
    "        plt.plot(T, y1, label='F1 Score')\n",
    "        plt.plot(T,y2, label='Accuracy')\n",
    "        plt.legend()\n",
    "        plt.grid()\n",
    "        plt.show()\n",
    "    \n",
    "    max_F1 = f1_scores[max_T]\n",
    "    return max_T, max_F1\n",
    "\n",
    "max_T, max_F1 = hypertune_threshold(predict_proba, y_val, graph=True)\n",
    "print(\"\\n\\nMaximum F1 score obtained with threshold {} is {}\".format(max_T, max_F1))"
   ]
  }
 ],
 "metadata": {
  "kernelspec": {
   "display_name": "Python 3",
   "language": "python",
   "name": "python3"
  },
  "language_info": {
   "codemirror_mode": {
    "name": "ipython",
    "version": 3
   },
   "file_extension": ".py",
   "mimetype": "text/x-python",
   "name": "python",
   "nbconvert_exporter": "python",
   "pygments_lexer": "ipython3",
   "version": "3.7.3"
  }
 },
 "nbformat": 4,
 "nbformat_minor": 4
}
