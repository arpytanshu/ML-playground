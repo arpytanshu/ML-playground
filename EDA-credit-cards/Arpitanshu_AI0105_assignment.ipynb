{
 "cells": [
  {
   "cell_type": "markdown",
   "metadata": {},
   "source": [
    "# OBJECTIVE : Exploratory Data Analysis, Classification\n",
    "\n",
    "# DATASET\n",
    "### Source : default of credit card clients Data Set ( https://archive.ics.uci.edu/ml/datasets/default+of+credit+card+clients )\n",
    "### Attribute Information:\n",
    "````\n",
    "This research employed a binary variable, default payment (Yes = 1, No = 0), as the response variable.  \n",
    "This study reviewed the literature and used the following 23 variables as explanatory variables:  \n",
    "\n",
    "X1: Amount of the given credit (NT dollar): it includes both the individual consumer credit and his/her family (supplementary) credit.\n",
    "X2: Gender (1 = male; 2 = female).\n",
    "X3: Education (1 = graduate school; 2 = university; 3 = high school; 4 = others).\n",
    "X4: Marital status (1 = married; 2 = single; 3 = others).\n",
    "X5: Age (year).\n",
    "X6 - X11: History of past payment. We tracked the past monthly payment records (from April to September, 2005) as follows:a\n",
    "    X6 = the repayment status in September, 2005;\n",
    "    X7 = the repayment status in August, 2005;\n",
    "    . . .;\n",
    "    X11 = the repayment status in April, 2005.\n",
    "    The measurement scale for the repayment status is:\n",
    "        -1 = pay duly;\n",
    "        1 = payment delay for one month;\n",
    "        2 = payment delay for two months;\n",
    "        . . .;\n",
    "        8 = payment delay for eight months;\n",
    "        9 = payment delay for nine months and above.\n",
    "X12-X17: Amount of bill statement (NT dollar).\n",
    "    X12 = amount of bill statement in September, 2005;\n",
    "    X13 = amount of bill statement in August, 2005;\n",
    "    . . .;\n",
    "    X17 = amount of bill statement in April, 2005.\n",
    "X18-X23: Amount of previous payment (NT dollar).\n",
    "    X18 = amount paid in September, 2005;\n",
    "    X19 = amount paid in August, 2005;\n",
    "    . . .;\n",
    "    X23 = amount paid in April, 2005.\n",
    "````    "
   ]
  },
  {
   "cell_type": "code",
   "execution_count": 1,
   "metadata": {},
   "outputs": [],
   "source": [
    "import numpy as np\n",
    "import pandas as pd\n",
    "import tensorflow as tf\n",
    "import matplotlib.pyplot as plt\n",
    "import sklearn\n",
    "from sklearn.metrics import f1_score\n",
    "from sklearn.model_selection import train_test_split, GridSearchCV\n",
    "from sklearn.ensemble import RandomForestClassifier"
   ]
  },
  {
   "cell_type": "code",
   "execution_count": 2,
   "metadata": {},
   "outputs": [],
   "source": [
    "## import data\n",
    "\n",
    "train = pd.read_csv('train.csv')\n",
    "test = pd.read_csv('test.csv')\n",
    "\n",
    "#drop columns we won't be using\n",
    "train.drop(columns=['Unnamed: 0', 'ID'], inplace=True)\n",
    "test.drop(columns=['Unnamed: 0', 'ID'], inplace=True)\n",
    "\n",
    "train.rename(columns={'default payment next month': 'labels'}, inplace=True)\n",
    "test.rename(columns={'default payment next month': 'labels'}, inplace=True)"
   ]
  },
  {
   "cell_type": "markdown",
   "metadata": {},
   "source": [
    ":  \n",
    "We make a convenience function to see improvement / deterioration  as we make changes to the features:  \n",
    "<strong><em>F1 scores</em></strong>  \n",
    "<strong><em>Accuracy</em></strong>  \n",
    "<strong><em>Feature Importance</em></strong>\n",
    "\n",
    "Simple sanity check to see if we are moving in the right direction.\n",
    "\n",
    "We seperate 15% data from train data for validation, and evaluate the changes."
   ]
  },
  {
   "cell_type": "code",
   "execution_count": 3,
   "metadata": {},
   "outputs": [],
   "source": [
    "\n",
    "def see_current_scores(df, imps=False, graph=False):\n",
    "    #train-val split\n",
    "    x_train, x_val , y_train, y_val = train_test_split(df.iloc[:,:-1], df.iloc[:,-1],\n",
    "                                                     test_size=0.15, random_state=43)\n",
    "    # using RFC for benchmark\n",
    "    rfc = RandomForestClassifier(n_estimators=20)\n",
    "    rfc.fit(x_train, y_train)\n",
    "    predictions = rfc.predict(x_val)\n",
    "    print('Score from RFC:', rfc.score(x_val, y_val))\n",
    "    print(\"F1 score from RFC:\", f1_score(y_val, predictions))\n",
    "    \n",
    "    if (imps):\n",
    "        feature_imps = {}\n",
    "        print(\"\\nFeature Importances:\")\n",
    "        ix = np.argsort(rfc.feature_importances_)[::-1]\n",
    "        for i,j in zip(rfc.feature_importances_[ix],x_train.columns[ix]):\n",
    "            print(i,j)\n",
    "            feature_imps[j] = i\n",
    "    \n",
    "    if(graph):\n",
    "        x = list(feature_imps.keys())\n",
    "        y = list(feature_imps.values())\n",
    "        plt.barh(x,y,log=True)\n",
    "        plt.title('Feature Importance of features in Logarithm Scale')\n",
    "        plt.show()"
   ]
  },
  {
   "cell_type": "markdown",
   "metadata": {},
   "source": [
    ":  \n",
    "Few convenience functions :P\n",
    "  \n",
    "show_cat_vs_labels()  \n",
    "Must be used with Categorical features only.  \n",
    "For any feature, it reports the ratio of defaulters / non-defaulters for each unique value in the feature.\n",
    "\n"
   ]
  },
  {
   "cell_type": "code",
   "execution_count": 5,
   "metadata": {},
   "outputs": [],
   "source": [
    "def show_cat_vs_labels(df, col):\n",
    "    vals = df[col].unique()\n",
    "    vals.sort()\n",
    "    for i in vals:\n",
    "        try:\n",
    "            bad_guys = df.labels[df[col] == i].value_counts()[1.0] # Defaulters\n",
    "        except KeyError:\n",
    "            bad_guys = 0\n",
    "        try:\n",
    "            good_guys = df.labels[df[col] == i].value_counts()[0] # Non-Defaulters\n",
    "        except KeyError:\n",
    "            good_guys = 0\n",
    "        try:\n",
    "            ratio = float(bad_guys) / float(good_guys)\n",
    "        except ZeroDivisionError:\n",
    "            ratio = 1\n",
    "        print(\"for value {}, defaulter ratio:{}\".format(i, ratio))\n",
    "\n",
    "\n",
    "def plotit(df, col, kind='bar'):\n",
    "    fig = plt.figure(figsize=(20,8))\n",
    "    i=1\n",
    "    \n",
    "    vals = df[col].unique()\n",
    "    vals.sort()\n",
    "    \n",
    "    for title in vals:\n",
    "        fig.add_subplot(3, 5, i)\n",
    "        plt.title('Val : {}'.format(title))\n",
    "        df.labels[df[col] == title].value_counts().plot(kind=kind)\n",
    "        i += 1\n",
    "        \n",
    "        \n",
    "# for scaling data\n",
    "def scaler(X):\n",
    "    mean = X.mean(axis=0)\n",
    "    std = X.std(axis=0)\n",
    "    scaled_X = (X - mean) / std\n",
    "    return scaled_X"
   ]
  },
  {
   "cell_type": "markdown",
   "metadata": {},
   "source": [
    "Lets see the lower bound score on the dataset without doing anything"
   ]
  },
  {
   "cell_type": "code",
   "execution_count": 6,
   "metadata": {},
   "outputs": [
    {
     "name": "stdout",
     "output_type": "stream",
     "text": [
      "Score from RFC: 0.8127413127413128\n",
      "F1 score from RFC: 0.4589641434262948\n",
      "\n",
      "Feature Importances:\n",
      "0.10173049000167607 PAY_0\n",
      "0.06493360079015578 AGE\n",
      "0.06008414128426019 BILL_AMT1\n",
      "0.058159193906207794 LIMIT_BAL\n",
      "0.052628437039031625 BILL_AMT3\n",
      "0.05211698808488724 BILL_AMT2\n",
      "0.051076460539145094 PAY_AMT1\n",
      "0.05072909686148479 BILL_AMT4\n",
      "0.05019460540313847 PAY_2\n",
      "0.0496997003913274 BILL_AMT6\n",
      "0.04899367093800483 BILL_AMT5\n",
      "0.04763905150312685 PAY_AMT2\n",
      "0.04639232962982947 PAY_AMT6\n",
      "0.04498821505215381 PAY_AMT5\n",
      "0.04367346319711225 PAY_AMT3\n",
      "0.042153586579447476 PAY_AMT4\n",
      "0.03046614042789362 PAY_3\n",
      "0.026254577593363453 PAY_5\n",
      "0.020444159699063887 EDUCATION\n",
      "0.01596010841996065 PAY_4\n",
      "0.014989640100994298 MARRIAGE\n",
      "0.013978521214065917 PAY_6\n",
      "0.01271382134366903 SEX\n"
     ]
    }
   ],
   "source": [
    "see_current_scores(train, imps=True)"
   ]
  },
  {
   "cell_type": "markdown",
   "metadata": {},
   "source": [
    "#### Observations:  \n",
    " - The PAY_x features seem to be the most important\n",
    "\n",
    " - SEX, AGE, MARRIAGE & EDUCATION have least scores.\n",
    "(Seems anybody can get in a difficult situation. :P)\n",
    "\n",
    " - We have PAY_0, and no PAY_1, strange!  "
   ]
  },
  {
   "cell_type": "markdown",
   "metadata": {},
   "source": [
    "###    \n",
    "### Analysing the Labels\n",
    "Lets see the ratio of defaulters vs non-defaulters in the dataset.  \n",
    "Value Mapping:  \n",
    "0 : Non-Defaulters  \n",
    "1 : Defaulters\n",
    "\n"
   ]
  },
  {
   "cell_type": "code",
   "execution_count": 8,
   "metadata": {},
   "outputs": [
    {
     "name": "stdout",
     "output_type": "stream",
     "text": [
      "\n",
      "Percentage of Class 1: 0.21842029045471473\n",
      "Percentage of Class 0: 0.7815797095452853\n"
     ]
    },
    {
     "data": {
      "image/png": "[encoded data removed]",
      "text/plain": [
       "<Figure size 432x288 with 1 Axes>"
      ]
     },
     "metadata": {},
     "output_type": "display_data"
    }
   ],
   "source": [
    "train.labels.value_counts().plot(kind='pie', labels=['Non-Defaulters', 'Defaulters'])\n",
    "\n",
    "perc_1 = train.labels.value_counts()[1] / train.labels.count()\n",
    "perc_0 = train.labels.value_counts()[0] / train.labels.count()\n",
    "\n",
    "print('\\nPercentage of Class 1:', perc_1)\n",
    "print('Percentage of Class 0:', perc_0)\n",
    "\n"
   ]
  },
  {
   "cell_type": "markdown",
   "metadata": {},
   "source": [
    "The data in hand is unbalanced as we have ~21% samples in class 1 and ~78% in class 0.  \n"
   ]
  },
  {
   "cell_type": "markdown",
   "metadata": {},
   "source": [
    "### Exploring PAY_x features  "
   ]
  },
  {
   "cell_type": "code",
   "execution_count": 9,
   "metadata": {},
   "outputs": [
    {
     "data": {
      "text/plain": [
       "array([ 2,  0, -1,  1, -2,  3,  4,  8,  7,  5,  6])"
      ]
     },
     "execution_count": 9,
     "metadata": {},
     "output_type": "execute_result"
    }
   ],
   "source": [
    "# See number of unique values in PAY_0\n",
    "train['PAY_0'].unique()"
   ]
  },
  {
   "cell_type": "markdown",
   "metadata": {},
   "source": [
    "A lot of unique values ranging from -2 to 8.\n",
    "\n",
    "Since <strong><em>-2</em></strong> value for PAY_x features are undocumented.  \n",
    "Lets see how is the defaulters ratio ( # of defaulters / # of non-defaulters) for each uniques value in PAY_x attributes"
   ]
  },
  {
   "cell_type": "code",
   "execution_count": 10,
   "metadata": {},
   "outputs": [
    {
     "data": {
      "image/png": "[encoded data removed]",
      "text/plain": [
       "<Figure size 1080x288 with 1 Axes>"
      ]
     },
     "metadata": {
      "needs_background": "light"
     },
     "output_type": "display_data"
    }
   ],
   "source": [
    "a = train.groupby(['labels', 'PAY_0']).count().unstack(0).PAY_2\n",
    "a.plot(kind='barh', stacked=True, figsize=(15,4))\n",
    "plt.show()"
   ]
  },
  {
   "cell_type": "markdown",
   "metadata": {},
   "source": [
    "Well, the stacked barplot for PAY_0 showing defaulters looks a lot cluttered.  \n",
    "Lets try something else. :p"
   ]
  },
  {
   "cell_type": "code",
   "execution_count": 11,
   "metadata": {},
   "outputs": [
    {
     "name": "stdout",
     "output_type": "stream",
     "text": [
      "for value -2, defaulter ratio:0.1456058242329693\n",
      "for value -1, defaulter ratio:0.19074550128534704\n",
      "for value 0, defaulter ratio:0.14481295796374855\n",
      "for value 1, defaulter ratio:0.5195876288659794\n",
      "for value 2, defaulter ratio:2.228787878787879\n",
      "for value 3, defaulter ratio:3.3442622950819674\n",
      "for value 4, defaulter ratio:2.388888888888889\n",
      "for value 5, defaulter ratio:0.9166666666666666\n",
      "for value 6, defaulter ratio:1.2\n",
      "for value 7, defaulter ratio:2.0\n",
      "for value 8, defaulter ratio:1.1428571428571428\n"
     ]
    },
    {
     "data": {
      "image/png": "[encoded data removed]",
      "text/plain": [
       "<Figure size 1440x576 with 11 Axes>"
      ]
     },
     "metadata": {
      "needs_background": "light"
     },
     "output_type": "display_data"
    }
   ],
   "source": [
    "# Using the convenience functions we made above\n",
    "show_cat_vs_labels(train, 'PAY_0')\n",
    "plotit(train, 'PAY_0')\n"
   ]
  },
  {
   "cell_type": "markdown",
   "metadata": {},
   "source": [
    "#### Observations  \n",
    "We can now safely conclude that '-2' value for PAY_x attributes have very less defaulters ratio,  \n",
    "as compared to positive values.  \n",
    "So it might have a meaning similar to value '-1'. Could be pre-payment, or no debt or something else altogether."
   ]
  },
  {
   "cell_type": "markdown",
   "metadata": {},
   "source": [
    "### Exploring features: SEX, MARRIAGE, AGE & EDUCATION   \n",
    "We saw above that these features have the least importances in predicting the labels from rfc.featuer_importances_  \n",
    "Lets do some plotting to see their defaulters ratio.\n",
    "  "
   ]
  },
  {
   "cell_type": "code",
   "execution_count": 12,
   "metadata": {},
   "outputs": [
    {
     "data": {
      "image/png": "[encoded data removed]",
      "text/plain": [
       "<Figure size 1080x288 with 3 Axes>"
      ]
     },
     "metadata": {
      "needs_background": "light"
     },
     "output_type": "display_data"
    },
    {
     "name": "stdout",
     "output_type": "stream",
     "text": [
      "\n",
      "For feature SEX\n",
      "for value 1, defaulter ratio:0.31461294328687733\n",
      "for value 2, defaulter ratio:0.25757966159924417\n",
      "\n",
      "For feature MARRIAGE\n",
      "for value 0, defaulter ratio:0.10256410256410256\n",
      "for value 1, defaulter ratio:0.3001298241472914\n",
      "for value 2, defaulter ratio:0.2626877392755473\n",
      "for value 3, defaulter ratio:0.2931937172774869\n",
      "\n",
      "For feature EDUCATION\n",
      "for value 0, defaulter ratio:0.0\n",
      "for value 1, defaulter ratio:0.2332175925925926\n",
      "for value 2, defaulter ratio:0.3085635039870565\n",
      "for value 3, defaulter ratio:0.3261744966442953\n",
      "for value 4, defaulter ratio:0.060240963855421686\n",
      "for value 5, defaulter ratio:0.055299539170506916\n",
      "for value 6, defaulter ratio:0.2222222222222222\n"
     ]
    }
   ],
   "source": [
    "\n",
    "fig, (a1,a2,a3) = plt.subplots(ncols=3, figsize=(15,4))\n",
    "\n",
    "train.groupby(['labels', 'SEX']).count().unstack(0).PAY_2.plot(kind='barh', stacked=True, ax=a1)\n",
    "train.groupby(['labels', 'MARRIAGE']).count().unstack(0).PAY_2.plot(kind='barh', stacked=True, ax=a2)\n",
    "train.groupby(['labels', 'EDUCATION']).count().unstack(0).PAY_2.plot(kind='barh', stacked=True, ax=a3)\n",
    "plt.show()\n",
    "\n",
    "print('\\nFor feature SEX')\n",
    "show_cat_vs_labels(train, 'SEX')\n",
    "\n",
    "print('\\nFor feature MARRIAGE')\n",
    "show_cat_vs_labels(train, 'MARRIAGE')\n",
    "\n",
    "print('\\nFor feature EDUCATION')\n",
    "show_cat_vs_labels(train, 'EDUCATION')\n"
   ]
  },
  {
   "cell_type": "markdown",
   "metadata": {},
   "source": [
    ":  \n",
    "Seems Men are more likely to default payment, as they have a little higher defaulting ratio.  \n",
    "But still SEX as a feature score very little in the RFC feature importance.  \n",
    ":  \n",
    "\n",
    "**_Overall defaulter ratio of the dataset ( 21.84 / 78.15 ~ 0.27 )  {i.e. # samples with class labels 1 / # samples with class labels 0}_**  \n",
    "  \n",
    "**One important thing worth noticing would be that if the defaulter ratio for any value in any feature is very close to the overall defaulter ratio of the dataset ( 21.84 / 78.15 ~ 0.27 ), then it probably is not going to be a very useful thing for us.  \n",
    "The farther the defaulter ratio is from 0.27, the better.**  \n",
    "  \n",
    "\n",
    "The information we observe here is very coherent with the feature importance from RFC we observed above.  \n",
    "SEX and MARRIAGE have their defaulter ratios very close around 0.27\n",
    "EDUCATION has its ratios much farther than 0.27.\n",
    "\n",
    "\n",
    "What we will try next is removeing these features altogether, and see the performance dip/rise."
   ]
  },
  {
   "cell_type": "code",
   "execution_count": 13,
   "metadata": {},
   "outputs": [],
   "source": [
    "train_low_features_removed = train.drop(columns=['SEX', 'MARRIAGE'])"
   ]
  },
  {
   "cell_type": "code",
   "execution_count": 14,
   "metadata": {},
   "outputs": [
    {
     "name": "stdout",
     "output_type": "stream",
     "text": [
      "Score from RFC: 0.8124655267512411\n",
      "F1 score from RFC: 0.4568690095846646\n",
      "Score from RFC: 0.8116381687810259\n",
      "F1 score from RFC: 0.45577689243027886\n"
     ]
    }
   ],
   "source": [
    "see_current_scores(train_low_features_removed)\n",
    "see_current_scores(train)\n"
   ]
  },
  {
   "cell_type": "markdown",
   "metadata": {},
   "source": [
    "A very slight dip in F1 score after removing SEX & MARRIAGE, as compared to the previous result with no change in dataset.  \n",
    "But we cannot be too sure of that.  \n",
    "We keep the features for now and decide later whether to keep or discard them."
   ]
  },
  {
   "cell_type": "markdown",
   "metadata": {},
   "source": [
    "### Lets Create New features\n",
    "\n",
    "The features BILL_AMTx are the amount the credit card holder is billed each month from April to September.\n",
    "And PAY_AMTx are the payments the person makes from April to September.\n",
    "\n",
    "One thing we can infer from the data is the relation between BILL_AMTx and PAY_AMTx.\n"
   ]
  },
  {
   "cell_type": "code",
   "execution_count": 15,
   "metadata": {},
   "outputs": [
    {
     "name": "stdout",
     "output_type": "stream",
     "text": [
      "Delta values for chosen samples for 5 months:\n",
      " [[   0    0    0    0    0]\n",
      " [  -5  -15    0    0 -369]\n",
      " [   0    0    0    0    0]\n",
      " [-163 -116  -23 -399 -129]]\n"
     ]
    },
    {
     "data": {
      "text/html": [
       "<div>\n",
       "<style scoped>\n",
       "    .dataframe tbody tr th:only-of-type {\n",
       "        vertical-align: middle;\n",
       "    }\n",
       "\n",
       "    .dataframe tbody tr th {\n",
       "        vertical-align: top;\n",
       "    }\n",
       "\n",
       "    .dataframe thead th {\n",
       "        text-align: right;\n",
       "    }\n",
       "</style>\n",
       "<table border=\"1\" class=\"dataframe\">\n",
       "  <thead>\n",
       "    <tr style=\"text-align: right;\">\n",
       "      <th></th>\n",
       "      <th>PAY_0</th>\n",
       "      <th>PAY_2</th>\n",
       "      <th>PAY_3</th>\n",
       "      <th>PAY_4</th>\n",
       "      <th>PAY_5</th>\n",
       "      <th>PAY_6</th>\n",
       "      <th>BILL_AMT1</th>\n",
       "      <th>BILL_AMT2</th>\n",
       "      <th>BILL_AMT3</th>\n",
       "      <th>BILL_AMT4</th>\n",
       "      <th>BILL_AMT5</th>\n",
       "      <th>BILL_AMT6</th>\n",
       "      <th>PAY_AMT1</th>\n",
       "      <th>PAY_AMT2</th>\n",
       "      <th>PAY_AMT3</th>\n",
       "      <th>PAY_AMT4</th>\n",
       "      <th>PAY_AMT5</th>\n",
       "      <th>PAY_AMT6</th>\n",
       "    </tr>\n",
       "  </thead>\n",
       "  <tbody>\n",
       "    <tr>\n",
       "      <th>18</th>\n",
       "      <td>-1</td>\n",
       "      <td>-1</td>\n",
       "      <td>-1</td>\n",
       "      <td>-1</td>\n",
       "      <td>-1</td>\n",
       "      <td>-1</td>\n",
       "      <td>316</td>\n",
       "      <td>316</td>\n",
       "      <td>316</td>\n",
       "      <td>0</td>\n",
       "      <td>632</td>\n",
       "      <td>316</td>\n",
       "      <td>316</td>\n",
       "      <td>316</td>\n",
       "      <td>0</td>\n",
       "      <td>632</td>\n",
       "      <td>316</td>\n",
       "      <td>0</td>\n",
       "    </tr>\n",
       "    <tr>\n",
       "      <th>26</th>\n",
       "      <td>-1</td>\n",
       "      <td>-1</td>\n",
       "      <td>-1</td>\n",
       "      <td>-1</td>\n",
       "      <td>-1</td>\n",
       "      <td>-1</td>\n",
       "      <td>16646</td>\n",
       "      <td>17265</td>\n",
       "      <td>13266</td>\n",
       "      <td>15339</td>\n",
       "      <td>14307</td>\n",
       "      <td>36923</td>\n",
       "      <td>17270</td>\n",
       "      <td>13281</td>\n",
       "      <td>15339</td>\n",
       "      <td>14307</td>\n",
       "      <td>37292</td>\n",
       "      <td>0</td>\n",
       "    </tr>\n",
       "    <tr>\n",
       "      <th>58</th>\n",
       "      <td>-1</td>\n",
       "      <td>-1</td>\n",
       "      <td>-1</td>\n",
       "      <td>-1</td>\n",
       "      <td>-1</td>\n",
       "      <td>-1</td>\n",
       "      <td>780</td>\n",
       "      <td>0</td>\n",
       "      <td>390</td>\n",
       "      <td>390</td>\n",
       "      <td>390</td>\n",
       "      <td>390</td>\n",
       "      <td>0</td>\n",
       "      <td>390</td>\n",
       "      <td>390</td>\n",
       "      <td>390</td>\n",
       "      <td>390</td>\n",
       "      <td>390</td>\n",
       "    </tr>\n",
       "    <tr>\n",
       "      <th>61</th>\n",
       "      <td>-1</td>\n",
       "      <td>-1</td>\n",
       "      <td>-1</td>\n",
       "      <td>-1</td>\n",
       "      <td>-1</td>\n",
       "      <td>-1</td>\n",
       "      <td>3048</td>\n",
       "      <td>5550</td>\n",
       "      <td>23337</td>\n",
       "      <td>4291</td>\n",
       "      <td>80153</td>\n",
       "      <td>25820</td>\n",
       "      <td>5713</td>\n",
       "      <td>23453</td>\n",
       "      <td>4314</td>\n",
       "      <td>80552</td>\n",
       "      <td>25949</td>\n",
       "      <td>2016</td>\n",
       "    </tr>\n",
       "  </tbody>\n",
       "</table>\n",
       "</div>"
      ],
      "text/plain": [
       "    PAY_0  PAY_2  PAY_3  PAY_4  PAY_5  PAY_6  BILL_AMT1  BILL_AMT2  BILL_AMT3  \\\n",
       "18     -1     -1     -1     -1     -1     -1        316        316        316   \n",
       "26     -1     -1     -1     -1     -1     -1      16646      17265      13266   \n",
       "58     -1     -1     -1     -1     -1     -1        780          0        390   \n",
       "61     -1     -1     -1     -1     -1     -1       3048       5550      23337   \n",
       "\n",
       "    BILL_AMT4  BILL_AMT5  BILL_AMT6  PAY_AMT1  PAY_AMT2  PAY_AMT3  PAY_AMT4  \\\n",
       "18          0        632        316       316       316         0       632   \n",
       "26      15339      14307      36923     17270     13281     15339     14307   \n",
       "58        390        390        390         0       390       390       390   \n",
       "61       4291      80153      25820      5713     23453      4314     80552   \n",
       "\n",
       "    PAY_AMT5  PAY_AMT6  \n",
       "18       316         0  \n",
       "26     37292         0  \n",
       "58       390       390  \n",
       "61     25949      2016  "
      ]
     },
     "execution_count": 15,
     "metadata": {},
     "output_type": "execute_result"
    }
   ],
   "source": [
    "#print(train.columns)\n",
    "\n",
    "sample = train.iloc[[18,26,58,61],:][['PAY_0', 'PAY_2',\n",
    "       'PAY_3', 'PAY_4', 'PAY_5', 'PAY_6', 'BILL_AMT1', 'BILL_AMT2',\n",
    "       'BILL_AMT3', 'BILL_AMT4', 'BILL_AMT5', 'BILL_AMT6', 'PAY_AMT1',\n",
    "       'PAY_AMT2', 'PAY_AMT3', 'PAY_AMT4', 'PAY_AMT5', 'PAY_AMT6']]\n",
    "\n",
    "bills = sample.values[:,6:12]\n",
    "payments = sample.values[:,12:18]\n",
    "delta = bills[:,1:] - payments[:,:-1]\n",
    "print('Delta values for chosen samples for 5 months:\\n',delta)\n",
    "sample"
   ]
  },
  {
   "cell_type": "markdown",
   "metadata": {},
   "source": [
    ":  \n",
    ":    \n",
    ":  \n",
    "We have deliberately chosen sample #18, #26, #58, #61 to understand this, since they have -1 {paid duly} for all 6 months.  \n",
    "So BILL_AMT6 is bill generated for April & PAY_AMT5 is the payment made in May for April's bill.  \n",
    "So delta that these good people maintain every month ( sample #18, #26, #58, #61) is almost 0 every month.  \n",
    "And a negative delta value means they are making pre-payments.\n",
    "  \n",
    "Using this observation, we can have the delta that each person maintains for a maximum of 5 months.  \n",
    "(Since PAY_AMT6 is payment made in April, for March's bill, whose data we do not have.)  \n",
    "(BILL_AMT1 is bill generated in September, but we do not have payment amount for this bill.)  \n",
    "  \n",
    "We will add a new column in the data which is the mean of the delta for the 5 months and see its feature importance. \n"
   ]
  },
  {
   "cell_type": "code",
   "execution_count": 16,
   "metadata": {},
   "outputs": [],
   "source": [
    "def add_delta_feature(df):\n",
    "    bills = df[['BILL_AMT1', 'BILL_AMT2','BILL_AMT3', 'BILL_AMT4', 'BILL_AMT5', 'BILL_AMT6']].values\n",
    "    payments = df[['PAY_AMT1','PAY_AMT2', 'PAY_AMT3', 'PAY_AMT4', 'PAY_AMT5', 'PAY_AMT6']].values\n",
    "    limit = df[['LIMIT_BAL']].values\n",
    "    delta  = bills[:,1:] - payments[:,:-1]\n",
    "    delta = delta.mean(axis=1)\n",
    "\n",
    "    df_with_delta =  df.copy()\n",
    "    df_with_delta.insert(loc=5, column='delta_mean', value=delta)\n",
    "    return df_with_delta\n",
    "\n",
    "train = add_delta_feature(train)\n",
    "test = add_delta_feature(test)\n",
    "#Apply same operations to test data too\n"
   ]
  },
  {
   "cell_type": "code",
   "execution_count": 18,
   "metadata": {},
   "outputs": [
    {
     "name": "stdout",
     "output_type": "stream",
     "text": [
      "Score from RFC: 0.8121897407611693\n",
      "F1 score from RFC: 0.45563549160671457\n",
      "\n",
      "Feature Importances:\n",
      "0.10182246329939608 PAY_0\n",
      "0.06346249868570246 AGE\n",
      "0.05858965107577814 LIMIT_BAL\n",
      "0.056285712889108795 BILL_AMT1\n",
      "0.050843693269095235 BILL_AMT2\n",
      "0.04909000096905615 PAY_2\n",
      "0.04867278655607252 PAY_AMT1\n",
      "0.04758642992150779 delta_mean\n",
      "0.046353660987922686 BILL_AMT6\n",
      "0.04621554522174788 BILL_AMT4\n",
      "0.04604603193116033 BILL_AMT5\n",
      "0.046038954518434164 BILL_AMT3\n",
      "0.04481347155083152 PAY_AMT2\n",
      "0.04374309870906693 PAY_AMT6\n",
      "0.043154915327486804 PAY_AMT3\n",
      "0.041427396693379095 PAY_AMT5\n",
      "0.039540913911670396 PAY_AMT4\n",
      "0.024480258412383323 PAY_3\n",
      "0.02010501902674928 EDUCATION\n",
      "0.01992435703963989 PAY_4\n",
      "0.018938078882823492 PAY_6\n",
      "0.017917493702736167 PAY_5\n",
      "0.013444746948429644 MARRIAGE\n",
      "0.011502820469821248 SEX\n"
     ]
    }
   ],
   "source": [
    "see_current_scores(train, imps=True)"
   ]
  },
  {
   "cell_type": "markdown",
   "metadata": {},
   "source": [
    "So, our new feature **delta_mean** has captured some meaningful information from PAY_AMTx and BILL_AMTx.  \n",
    "It is **9th most important feature among 25 features**.  \n",
    "{ THIS RANK MAY VARY WITH EACH RUN}"
   ]
  },
  {
   "cell_type": "markdown",
   "metadata": {},
   "source": [
    "### Done with the features, move to model\n",
    "#### Lets do some tuning with RandomForestClassifier\n",
    "Some local hyperparameter search on RandomForestClassifier usinf sklearn's GridCVSearch returned the following parameters for RFC when scored on accuracy.\n",
    " - max_depth : 7\n",
    " - criterion : 'gini'\n",
    " - n_estimators : 75"
   ]
  },
  {
   "cell_type": "code",
   "execution_count": 19,
   "metadata": {},
   "outputs": [
    {
     "name": "stdout",
     "output_type": "stream",
     "text": [
      "Score from RFC: 0.8196359624931053\n",
      "F1 score from RFC with probability threshold 0.5: 0.4612850082372323\n"
     ]
    }
   ],
   "source": [
    "rfc = RandomForestClassifier(max_depth=7, criterion='gini', n_estimators=75)\n",
    "x_train, x_val , y_train, y_val = train_test_split(train.iloc[:,:-1], train.iloc[:,-1],\n",
    "                                                     test_size=0.15, random_state=43)\n",
    "\n",
    "rfc.fit(x_train, y_train)\n",
    "predictions = rfc.predict(x_val)\n",
    "predict_proba = rfc.predict_proba(x_val)\n",
    "print('Score from RFC:', rfc.score(x_val, y_val))\n",
    "print(\"F1 score from RFC with probability threshold 0.5:\", f1_score(y_val, predictions))\n"
   ]
  },
  {
   "cell_type": "markdown",
   "metadata": {},
   "source": [
    "### Tune the threshold for making predictions  \n",
    "#### Instead of making a class label prediction with probability threshold = 0.5.  \n",
    "#### We shift the threshold and see the effect on F1 score & Accuracy."
   ]
  },
  {
   "cell_type": "code",
   "execution_count": 20,
   "metadata": {},
   "outputs": [
    {
     "data": {
      "image/png": "[encoded data removed]",
      "text/plain": [
       "<Figure size 432x288 with 1 Axes>"
      ]
     },
     "metadata": {
      "needs_background": "light"
     },
     "output_type": "display_data"
    },
    {
     "name": "stdout",
     "output_type": "stream",
     "text": [
      "\n",
      "\n",
      "Maximum F1 score obtained with threshold 0.26 is 0.5606694560669456\n"
     ]
    }
   ],
   "source": [
    "\n",
    "fscores = {}\n",
    "accuracy = {}\n",
    "T = [0.20, 0.21, 0.22, 0.23, 0.24, 0.25, 0.26, 0.27, 0.28, 0.29, 0.30, 0.35, 0.4, 0.45, 0.5, 0.55, 0.60, 0.65]\n",
    "for t in T:\n",
    "    predictions=[]\n",
    "    for i in predict_proba:\n",
    "        if(i[1] > t):\n",
    "            predictions.append(1)\n",
    "        else:\n",
    "            predictions.append(0)\n",
    "    predictions = np.array(predictions)\n",
    "    accuracy[t] = 1 - (predictions - y_val).abs().sum() / predictions.shape[0]\n",
    "    fscores[t] = f1_score(y_val, predictions)\n",
    "\n",
    "fscores_list = list(fscores.values())\n",
    "accuracy_list = list(accuracy.values())\n",
    "max_T = T[np.argmax(fscores_list)]\n",
    "max_F1 = fscores[max_T]\n",
    "    \n",
    "plt.plot(T, fscores_list, label='F1 Score')\n",
    "plt.plot(T,accuracy_list, label='Accuracy')\n",
    "plt.legend()\n",
    "plt.title('Variation of F1 scores with probability threshold')\n",
    "plt.grid()\n",
    "plt.show()\n",
    "\n",
    "print(\"\\n\\nMaximum F1 score obtained with threshold {} is {}\".format(max_T, max_F1))"
   ]
  },
  {
   "cell_type": "markdown",
   "metadata": {},
   "source": [
    "###  \n",
    "###  \n",
    "### Now we have everything in place. Lets train RFC with all training data and generate the predictions for test data"
   ]
  },
  {
   "cell_type": "code",
   "execution_count": 21,
   "metadata": {},
   "outputs": [],
   "source": [
    "X_train = train.iloc[:,:-1]\n",
    "Y_train = train.iloc[:,-1]\n",
    "\n",
    "rfc.fit(X_train, Y_train)\n",
    "predictions_05 = rfc.predict(test)\n",
    "predict_proba = rfc.predict_proba(test)\n",
    "\n",
    "\n",
    "predictions_maxT=[]\n",
    "for i in predict_proba:\n",
    "    if(i[1] > max_T):\n",
    "        predictions_maxT.append(1)\n",
    "    else:\n",
    "        predictions_maxT.append(0)\n",
    "predictions_05 = np.array(predictions_05)\n",
    "predictions_maxT = np.array(predictions_maxT)\n",
    "\n"
   ]
  },
  {
   "cell_type": "markdown",
   "metadata": {},
   "source": [
    "###  \n",
    "Write the predictions to test.csv"
   ]
  },
  {
   "cell_type": "code",
   "execution_count": 22,
   "metadata": {},
   "outputs": [],
   "source": [
    "test_orig = pd.read_csv('test.csv')\n",
    "test_orig['Prediction'] = predictions_maxT\n",
    "test_orig.to_csv('test.csv')"
   ]
  }
 ],
 "metadata": {
  "kernelspec": {
   "display_name": "Python 3",
   "language": "python",
   "name": "python3"
  },
  "language_info": {
   "codemirror_mode": {
    "name": "ipython",
    "version": 3
   },
   "file_extension": ".py",
   "mimetype": "text/x-python",
   "name": "python",
   "nbconvert_exporter": "python",
   "pygments_lexer": "ipython3",
   "version": "3.7.3"
  }
 },
 "nbformat": 4,
 "nbformat_minor": 4
}
